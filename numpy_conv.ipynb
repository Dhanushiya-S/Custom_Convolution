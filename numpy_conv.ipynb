{
  "nbformat": 4,
  "nbformat_minor": 0,
  "metadata": {
    "colab": {
      "provenance": []
    },
    "kernelspec": {
      "name": "python3",
      "display_name": "Python 3"
    },
    "language_info": {
      "name": "python"
    }
  },
  "cells": [
    {
      "cell_type": "code",
      "execution_count": 6,
      "metadata": {
        "colab": {
          "base_uri": "https://localhost:8080/"
        },
        "id": "jjGHfBl4i1zR",
        "outputId": "003a69d2-494c-459b-bbf7-3482e845ae69"
      },
      "outputs": [
        {
          "output_type": "stream",
          "name": "stdout",
          "text": [
            "[[ -1.  -2.  -3.  -4.   0.]\n",
            " [ -5.  -5.  -5.  -5.   4.]\n",
            " [ -9.  -5.  -5.  -5.   8.]\n",
            " [-13.  -5.  -5.  -5.  12.]\n",
            " [  0.  13.  14.  15.  16.]]\n"
          ]
        }
      ],
      "source": [
        "import torch\n",
        "import numpy as np\n",
        "\n",
        "def conv(input,kernel,stride,padding):\n",
        "  if(padding>0):\n",
        "    input=np.pad(input,((padding,padding),(padding,padding)),'constant',constant_values=(0))\n",
        "\n",
        "  out_height=(input.shape[0]-kernel.shape[0])//stride+1\n",
        "  out_width=(input.shape[1]-kernel.shape[1])//stride+1\n",
        "\n",
        "  output = np.zeros((out_height,out_width))\n",
        "\n",
        "  for x in range(out_height):\n",
        "    for y in range(out_width):\n",
        "      region = input[x*stride:x*stride+kernel.shape[0], y*stride:y*stride+kernel.shape[1]]\n",
        "      output[x,y] = np.sum(region * kernel)\n",
        "  return output\n",
        "\n",
        "input_matrix = np.array([[1, 2, 3, 4], [5, 6, 7, 8], [9, 10, 11, 12], [13, 14, 15, 16]])\n",
        "kernal = np.array([[1, 0], [0, -1]])\n",
        "\n",
        "\n",
        "output = conv(input_matrix,kernal,1,1)\n",
        "print(output)"
      ]
    }
  ]
}