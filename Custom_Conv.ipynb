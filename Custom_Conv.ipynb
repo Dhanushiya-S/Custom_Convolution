{
  "nbformat": 4,
  "nbformat_minor": 0,
  "metadata": {
    "colab": {
      "provenance": []
    },
    "kernelspec": {
      "name": "python3",
      "display_name": "Python 3"
    },
    "language_info": {
      "name": "python"
    }
  },
  "cells": [
    {
      "cell_type": "code",
      "execution_count": 6,
      "metadata": {
        "colab": {
          "base_uri": "https://localhost:8080/"
        },
        "id": "iqnuKd5Q_6rG",
        "outputId": "7a837f27-85d1-41a1-9544-94bae65cdbcb"
      },
      "outputs": [
        {
          "output_type": "stream",
          "name": "stdout",
          "text": [
            "tensor([[ -1.,  -2.,  -3.,  -4.,   0.],\n",
            "        [ -5.,  -5.,  -5.,  -5.,   4.],\n",
            "        [ -9.,  -5.,  -5.,  -5.,   8.],\n",
            "        [-13.,  -5.,  -5.,  -5.,  12.],\n",
            "        [  0.,  13.,  14.,  15.,  16.]])\n"
          ]
        }
      ],
      "source": [
        "import torch\n",
        "import torch.nn as nn\n",
        "import torch.nn.functional as F\n",
        "import numpy as np\n",
        "\n",
        "class custom_conv(nn.Module):\n",
        "  def __init__(self,kernel,stride,padding):\n",
        "    super(custom_conv,self).__init__()\n",
        "    self.kernel = kernel\n",
        "    self.stride = stride\n",
        "    self.padding = padding\n",
        "\n",
        "  def forward(self,input):\n",
        "    if self.padding > 0:\n",
        "      input = F.pad(input,(self.padding,self.padding,self.padding,self.padding),mode='constant',value=0)\n",
        "\n",
        "    out_height = input.shape[0] - self.kernel.shape[0] // self.stride + 1\n",
        "    out_width = input.shape[1] - self.kernel.shape[1] // self.stride + 1\n",
        "    output = torch.zeros(out_height,out_width)\n",
        "\n",
        "    for i in range(0,out_height):\n",
        "      for j in range(0,out_width):\n",
        "        region = input[i*self.stride : i*self.stride + self.kernel.shape[0],j*self.stride : j*self.stride + self.kernel.shape[1]]\n",
        "        output[i,j] = torch.sum(region * self.kernel)\n",
        "    return output\n",
        "\n",
        "input_matrix = torch.tensor([[1, 2, 3, 4], [5, 6, 7 ,8], [9, 10, 11, 12], [13, 14, 15, 16]], dtype=torch.float32)\n",
        "kernel = torch.tensor([[1, 0], [0, -1]], dtype=torch.float32)\n",
        "\n",
        "conv = custom_conv(kernel,1,1)\n",
        "output = conv(input_matrix)\n",
        "print(output)\n",
        "\n",
        "\n",
        "\n",
        "\n",
        "\n",
        "\n",
        "\n",
        "\n",
        "\n",
        ""
      ]
    }
  ]
}