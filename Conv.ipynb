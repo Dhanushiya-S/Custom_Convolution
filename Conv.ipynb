{
  "nbformat": 4,
  "nbformat_minor": 0,
  "metadata": {
    "colab": {
      "provenance": []
    },
    "kernelspec": {
      "name": "python3",
      "display_name": "Python 3"
    },
    "language_info": {
      "name": "python"
    }
  },
  "cells": [
    {
      "cell_type": "code",
      "execution_count": 7,
      "metadata": {
        "colab": {
          "base_uri": "https://localhost:8080/"
        },
        "id": "zqlmAjxZuHJB",
        "outputId": "32947e41-158c-489d-b083-796e11139550"
      },
      "outputs": [
        {
          "output_type": "stream",
          "name": "stdout",
          "text": [
            "tensor([[ -1.,  -2.,  -3.,  -4.,   0.],\n",
            "        [ -5.,  -5.,  -5.,  -5.,   4.],\n",
            "        [ -9.,  -5.,  -5.,  -5.,   8.],\n",
            "        [-13.,  -5.,  -5.,  -5.,  12.],\n",
            "        [  0.,  13.,  14.,  15.,  16.]])\n"
          ]
        }
      ],
      "source": [
        "import torch\n",
        "import torch.nn as nn\n",
        "import torch.nn.functional as F\n",
        "\n",
        "input_matrix = torch.tensor([[1,2,3,4],[5,6,7,8],[9,10,11,12],[13,14,15,16]], dtype=torch.float32)\n",
        "kernel = torch.tensor([[1,0],[0,-1]], dtype=torch.float32)\n",
        "\n",
        "input_matrix = input_matrix.unsqueeze(0).unsqueeze(0)\n",
        "kernel = kernel.unsqueeze(0).unsqueeze(0)\n",
        "\n",
        "output = F.conv2d(input_matrix, kernel, stride=1,padding=1)\n",
        "\n",
        "output = output.squeeze(0).squeeze(0)\n",
        "\n",
        "print(output)"
      ]
    }
  ]
}